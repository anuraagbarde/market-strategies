{
  "nbformat": 4,
  "nbformat_minor": 0,
  "metadata": {
    "colab": {
      "provenance": [],
      "authorship_tag": "ABX9TyOMEYs94hLquHeN3dhSj/MA",
      "include_colab_link": true
    },
    "kernelspec": {
      "name": "python3",
      "display_name": "Python 3"
    },
    "language_info": {
      "name": "python"
    }
  },
  "cells": [
    {
      "cell_type": "markdown",
      "metadata": {
        "id": "view-in-github",
        "colab_type": "text"
      },
      "source": [
        "<a href=\"https://colab.research.google.com/github/anuraagbarde/market-strategies/blob/master/public_nifty_intraday_strategies.ipynb\" target=\"_parent\"><img src=\"https://colab.research.google.com/assets/colab-badge.svg\" alt=\"Open In Colab\"/></a>"
      ]
    },
    {
      "cell_type": "code",
      "source": [
        "# Import the csv\n",
        "import pandas as pd\n",
        "df = pd.read_csv('NIFTY_2015.csv')\n",
        "# print(df)"
      ],
      "metadata": {
        "id": "MucqBjlx6dv8"
      },
      "execution_count": 1,
      "outputs": []
    },
    {
      "cell_type": "code",
      "source": [
        "# Preprocessing dataframe\n",
        "def convertStringDateToDateObject(nDate: int):\n",
        "    sDate = str(nDate)\n",
        "    year = int(sDate[0:4])\n",
        "    month = int(sDate[4:6])\n",
        "    date = int(sDate[6:])\n",
        "    res = {\n",
        "        \"year\": year,\n",
        "        \"month\": month,\n",
        "        \"date\": date\n",
        "    }\n",
        "    return res\n",
        "\n",
        "def extractYear(sDate):\n",
        "    return convertStringDateToDateObject(sDate)['year']\n",
        "\n",
        "def extractMonth(sDate):\n",
        "    return convertStringDateToDateObject(sDate)['month']\n",
        "\n",
        "def extractDate(sDate):\n",
        "    return convertStringDateToDateObject(sDate)['date']\n",
        "\n",
        "df['year'] = df.apply(lambda row: extractYear(row.Date), axis=1)\n",
        "df['month'] = df.apply(lambda row: extractMonth(row.Date), axis=1)\n",
        "df['date'] = df.apply(lambda row: extractDate(row.Date), axis=1)\n",
        "\n",
        "df.drop(['Date', 'Instrument'], axis = 1, inplace = True)\n",
        "\n",
        "df_global = df.copy()"
      ],
      "metadata": {
        "id": "yybBa9GjYqEd"
      },
      "execution_count": 2,
      "outputs": []
    },
    {
      "cell_type": "markdown",
      "source": [
        "Use `df = df_global.copy()` at the start of each new strategy"
      ],
      "metadata": {
        "id": "nZNzhhVYNK5f"
      }
    },
    {
      "cell_type": "markdown",
      "source": [
        "# STRATEGY 1"
      ],
      "metadata": {
        "id": "O5AgawnvNalX"
      }
    },
    {
      "cell_type": "code",
      "source": [
        "PROFIT_CUTOFF = 1.00\n",
        "LOSS_CUTOFF = -3.00\n",
        "\n",
        "def calculatePercentage(start: float, curr: float)->float:\n",
        "    # print('movement -> ', (curr-start)*100/start)\n",
        "    return (curr-start)*100/start\n",
        "\n",
        "def isProfited(start: float, curr: float)->bool:\n",
        "    if(calculatePercentage(start, curr) > PROFIT_CUTOFF):\n",
        "        print(\"Boom!\")\n",
        "        return True\n",
        "    else:\n",
        "        return False\n",
        "\n",
        "def isLost(start: float, curr: float)->bool:\n",
        "    if(calculatePercentage(start, curr) < LOSS_CUTOFF):\n",
        "        print(\"Noo!\")\n",
        "        return True\n",
        "    else:\n",
        "        return False\n",
        "\n",
        "class Day:\n",
        "    def __init__(self, _date, _start):\n",
        "        self.date = _date\n",
        "        self.start = _start\n",
        "        self.activity = False\n",
        "\n",
        "    def setProfit(self):\n",
        "        self.activity = True\n",
        "        self.profit = True\n",
        "        self.loss = False\n",
        "\n",
        "    def setLoss(self):\n",
        "        self.activity = True\n",
        "        self.profit = False\n",
        "        self.loss = True\n",
        "\n",
        "    def display(self):\n",
        "        print(\"Date\", self.date)\n",
        "        print(\"activity\", self.activity)\n",
        "        if(self.activity == True):\n",
        "            print(\"profit\", self.profit)\n",
        "            print(\"loss\", self.loss)\n",
        "        print()\n"
      ],
      "metadata": {
        "id": "dQmPLmuQK3rL"
      },
      "execution_count": 3,
      "outputs": []
    },
    {
      "cell_type": "code",
      "source": [
        "\n",
        "\n",
        "STATS_inactive = 0\n",
        "STATS_profit = 0\n",
        "STATS_loss = 0\n",
        "\n",
        "# BOILERPLATE-START\n",
        "\n",
        "YEAR = 2015\n",
        "MONTHs = range(1, 12+1)\n",
        "\n",
        "for mm in MONTHs:\n",
        "    print(\"Month\", mm)\n",
        "    df = df_global.copy()\n",
        "    df = df.where((df['year']== YEAR) & (df['month']== mm))\n",
        "    df = df.dropna()\n",
        "    DATEs = list(map(lambda x: int(x), df.date.unique()))\n",
        "    for dd in DATEs:\n",
        "        df_today = df.copy()\n",
        "        df_today = df.where(df['date'] == dd)\n",
        "        df_today = df_today.dropna()\n",
        "        # BOILERPLATE-END\n",
        "\n",
        "        # STRATEGY-START\n",
        "        today = Day(dd, df_today['Open'].iloc[0])\n",
        "\n",
        "        for _, row in df_today.iterrows():\n",
        "            if(isProfited(today.start, float(row['High']))):\n",
        "                today.setProfit()\n",
        "                break\n",
        "\n",
        "            if(isLost(today.start, float(row[\"Low\"]))):\n",
        "                today.setLoss()\n",
        "                break\n",
        "\n",
        "        if(today.activity == True):\n",
        "            if(today.loss == True):\n",
        "                STATS_loss +=1\n",
        "            if(today.profit == True):\n",
        "                STATS_profit +=1\n",
        "        elif(today.activity == False):\n",
        "            STATS_inactive += 1\n",
        "        # today.display()\n",
        "\n",
        "        # STRATEGY-END\n",
        "\n",
        "print(\"STATS_inactive\", STATS_inactive)\n",
        "print(\"STATS_profit\", STATS_profit)\n",
        "print(\"STATS_loss\", STATS_loss)\n",
        "print(\"Net profit\", STATS_profit*PROFIT_CUTOFF + STATS_loss*LOSS_CUTOFF)"
      ],
      "metadata": {
        "colab": {
          "base_uri": "https://localhost:8080/"
        },
        "id": "wZrlih_ECQbT",
        "outputId": "c3a5e2f7-d7af-4c68-bac4-6229b4b1e0b1"
      },
      "execution_count": 4,
      "outputs": [
        {
          "output_type": "stream",
          "name": "stdout",
          "text": [
            "Month 1\n",
            "Boom!\n",
            "Boom!\n",
            "Boom!\n",
            "Month 2\n",
            "Boom!\n",
            "Boom!\n",
            "Boom!\n",
            "Month 3\n",
            "Boom!\n",
            "Boom!\n",
            "Month 4\n",
            "Boom!\n",
            "Boom!\n",
            "Month 5\n",
            "Boom!\n",
            "Boom!\n",
            "Boom!\n",
            "Boom!\n",
            "Boom!\n",
            "Month 6\n",
            "Boom!\n",
            "Boom!\n",
            "Boom!\n",
            "Month 7\n",
            "Boom!\n",
            "Boom!\n",
            "Boom!\n",
            "Boom!\n",
            "Month 8\n",
            "Boom!\n",
            "Noo!\n",
            "Noo!\n",
            "Boom!\n",
            "Month 9\n",
            "Boom!\n",
            "Boom!\n",
            "Boom!\n",
            "Boom!\n",
            "Boom!\n",
            "Month 10\n",
            "Boom!\n",
            "Month 11\n",
            "Boom!\n",
            "Boom!\n",
            "Month 12\n",
            "Boom!\n",
            "Boom!\n",
            "STATS_inactive 211\n",
            "STATS_profit 34\n",
            "STATS_loss 2\n",
            "Net profit 28.0\n"
          ]
        }
      ]
    }
  ]
}