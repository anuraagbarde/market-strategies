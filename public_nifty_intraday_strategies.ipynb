{
  "nbformat": 4,
  "nbformat_minor": 0,
  "metadata": {
    "colab": {
      "provenance": [],
      "authorship_tag": "ABX9TyO+CBVBKv8OP2vYZXcO4OwH",
      "include_colab_link": true
    },
    "kernelspec": {
      "name": "python3",
      "display_name": "Python 3"
    },
    "language_info": {
      "name": "python"
    }
  },
  "cells": [
    {
      "cell_type": "markdown",
      "metadata": {
        "id": "view-in-github",
        "colab_type": "text"
      },
      "source": [
        "<a href=\"https://colab.research.google.com/github/anuraagbarde/market-strategies/blob/master/public_nifty_intraday_strategies.ipynb\" target=\"_parent\"><img src=\"https://colab.research.google.com/assets/colab-badge.svg\" alt=\"Open In Colab\"/></a>"
      ]
    },
    {
      "cell_type": "markdown",
      "source": [
        "# Preprocessing"
      ],
      "metadata": {
        "id": "JyzFfaxxXd1H"
      }
    },
    {
      "cell_type": "code",
      "source": [
        "# Import the csv\n",
        "import pandas as pd\n",
        "df = pd.read_csv('NIFTY_2015.csv')\n",
        "# print(df)"
      ],
      "metadata": {
        "id": "MucqBjlx6dv8"
      },
      "execution_count": 23,
      "outputs": []
    },
    {
      "cell_type": "code",
      "source": [
        "# Preprocessing dataframe\n",
        "def convertStringDateToDateObject(nDate: int):\n",
        "    sDate = str(nDate)\n",
        "    year = int(sDate[0:4])\n",
        "    month = int(sDate[4:6])\n",
        "    date = int(sDate[6:])\n",
        "    res = {\n",
        "        \"year\": year,\n",
        "        \"month\": month,\n",
        "        \"date\": date\n",
        "    }\n",
        "    return res\n",
        "\n",
        "def extractYear(sDate):\n",
        "    return convertStringDateToDateObject(sDate)['year']\n",
        "\n",
        "def extractMonth(sDate):\n",
        "    return convertStringDateToDateObject(sDate)['month']\n",
        "\n",
        "def extractDate(sDate):\n",
        "    return convertStringDateToDateObject(sDate)['date']\n",
        "\n",
        "df['year'] = df.apply(lambda row: extractYear(row.Date), axis=1)\n",
        "df['month'] = df.apply(lambda row: extractMonth(row.Date), axis=1)\n",
        "df['date'] = df.apply(lambda row: extractDate(row.Date), axis=1)\n",
        "\n",
        "df.drop(['Date', 'Instrument'], axis = 1, inplace = True)\n",
        "\n",
        "df_global = df.copy()\n",
        "print(df_global)"
      ],
      "metadata": {
        "id": "yybBa9GjYqEd",
        "colab": {
          "base_uri": "https://localhost:8080/"
        },
        "outputId": "351bed9c-986b-406d-efc1-747c18adb121"
      },
      "execution_count": 24,
      "outputs": [
        {
          "output_type": "stream",
          "name": "stdout",
          "text": [
            "        Time     Open     High      Low    Close  year  month  date\n",
            "0      09:16  8276.00  8276.70  8252.70  8255.00  2015      1     1\n",
            "1      09:17  8252.45  8255.00  8251.70  8254.10  2015      1     1\n",
            "2      09:18  8253.70  8261.40  8253.70  8261.40  2015      1     1\n",
            "3      09:19  8261.15  8264.55  8259.35  8259.60  2015      1     1\n",
            "4      09:20  8259.10  8259.45  8253.05  8253.80  2015      1     1\n",
            "...      ...      ...      ...      ...      ...   ...    ...   ...\n",
            "92619  15:26  7946.70  7948.45  7945.85  7947.05  2015     12    31\n",
            "92620  15:27  7946.65  7948.00  7942.60  7942.60  2015     12    31\n",
            "92621  15:28  7943.85  7944.10  7941.55  7942.60  2015     12    31\n",
            "92622  15:29  7942.40  7947.00  7941.05  7942.30  2015     12    31\n",
            "92623  15:30  7943.10  7945.55  7939.50  7939.75  2015     12    31\n",
            "\n",
            "[92624 rows x 8 columns]\n"
          ]
        }
      ]
    },
    {
      "cell_type": "markdown",
      "source": [
        "Use `df = df_global.copy()` at the start of each new strategy"
      ],
      "metadata": {
        "id": "nZNzhhVYNK5f"
      }
    },
    {
      "cell_type": "markdown",
      "source": [
        "# STRATEGY 1"
      ],
      "metadata": {
        "id": "O5AgawnvNalX"
      }
    },
    {
      "cell_type": "code",
      "source": [
        "# Percentages\n",
        "PROFIT_CUTOFF = 1\n",
        "LOSS_CUTOFF = -3.00\n",
        "\n",
        "# ZERODHA\n",
        "TRANSACTION_COST_BUY = (58.37/100000)*100\n",
        "TRANSACTION_COST_SELL = (168.38/100000)*100\n",
        "TRANSACTION_COST = TRANSACTION_COST_BUY + TRANSACTION_COST_SELL\n",
        "\n",
        "# TAX\n",
        "# Ideally it should be filled under ITR-3 as a business income with abilty\n",
        "# to show transaction cost as expense, but that form is hard to fill, also\n",
        "# you can switch to old/new(section 115BAC) regime only once in lifetime once\n",
        "# you fill ITR-3\n",
        "\n",
        "# Anyways, lets say you show it as STCG(Short Term Captial Gain) under\n",
        "# applicable tax slab in ITR-2 with the applicable tax slab being 30%.\n",
        "# Also losses can be carry forwared for 4 years\n",
        "TAX_SLAB = 30\n",
        "\n",
        "# Typical for economically growing countries like India\n",
        "INFLATION = 6"
      ],
      "metadata": {
        "id": "0ybM2Q25drPg"
      },
      "execution_count": 29,
      "outputs": []
    },
    {
      "cell_type": "code",
      "source": [
        "# Strategy functions\n",
        "\n",
        "def calculatePercentage(start: float, curr: float)->float:\n",
        "    # print('movement -> ', (curr-start)*100/start)\n",
        "    return (curr-start)*100/start\n",
        "\n",
        "def isProfited(start: float, curr: float)->bool:\n",
        "    if(calculatePercentage(start, curr) > PROFIT_CUTOFF):\n",
        "        print(\"Boom!\")\n",
        "        return True\n",
        "    else:\n",
        "        return False\n",
        "\n",
        "def isLost(start: float, curr: float)->bool:\n",
        "    if(calculatePercentage(start, curr) < LOSS_CUTOFF):\n",
        "        print(\"Noo!\")\n",
        "        return True\n",
        "    else:\n",
        "        return False\n",
        "\n",
        "class Day:\n",
        "    def __init__(self, _date, _start):\n",
        "        self.date = _date\n",
        "        self.start = _start\n",
        "        self.activity = False\n",
        "\n",
        "    def setProfit(self):\n",
        "        self.activity = True\n",
        "        self.profit = True\n",
        "        self.loss = False\n",
        "\n",
        "    def setLoss(self):\n",
        "        self.activity = True\n",
        "        self.profit = False\n",
        "        self.loss = True\n",
        "\n",
        "    def display(self):\n",
        "        print(\"Date\", self.date)\n",
        "        print(\"activity\", self.activity)\n",
        "        if(self.activity == True):\n",
        "            print(\"profit\", self.profit)\n",
        "            print(\"loss\", self.loss)\n",
        "        print()\n"
      ],
      "metadata": {
        "id": "dQmPLmuQK3rL"
      },
      "execution_count": 30,
      "outputs": []
    },
    {
      "cell_type": "code",
      "source": [
        "# Execute strategy\n",
        "\n",
        "STATS_inactive = 0\n",
        "STATS_profit = 0\n",
        "STATS_loss = 0\n",
        "\n",
        "# BOILERPLATE-START\n",
        "\n",
        "YEAR = 2015\n",
        "MONTHs = range(1, 12+1)\n",
        "\n",
        "for mm in MONTHs:\n",
        "    print(\"Month\", mm)\n",
        "    df = df_global.copy()\n",
        "    df = df.where((df['year']== YEAR) & (df['month']== mm))\n",
        "    df = df.dropna()\n",
        "    DATEs = list(map(lambda x: int(x), df.date.unique()))\n",
        "    for dd in DATEs:\n",
        "        df_today = df.copy()\n",
        "        df_today = df.where(df['date'] == dd)\n",
        "        df_today = df_today.dropna()\n",
        "        # BOILERPLATE-END\n",
        "\n",
        "        # STRATEGY-START\n",
        "        today = Day(dd, df_today['Open'].iloc[0])\n",
        "\n",
        "        for _, row in df_today.iterrows():\n",
        "            if(isProfited(today.start, float(row['High']))):\n",
        "                today.setProfit()\n",
        "                break\n",
        "\n",
        "            if(isLost(today.start, float(row[\"Low\"]))):\n",
        "                today.setLoss()\n",
        "                break\n",
        "\n",
        "        if(today.activity == True):\n",
        "            if(today.loss == True):\n",
        "                STATS_loss +=1\n",
        "            if(today.profit == True):\n",
        "                STATS_profit +=1\n",
        "        elif(today.activity == False):\n",
        "            STATS_inactive += 1\n",
        "        # today.display()\n",
        "\n",
        "        # STRATEGY-END\n",
        "\n",
        "print(\"STATS_inactive\", STATS_inactive)\n",
        "print(\"STATS_profit\", STATS_profit)\n",
        "print(\"STATS_loss\", STATS_loss)\n",
        "print(\"STATS_transaction_cost\", TRANSACTION_COST*(STATS_profit + STATS_loss))\n",
        "profit = STATS_profit*PROFIT_CUTOFF + STATS_loss*LOSS_CUTOFF - TRANSACTION_COST*(STATS_profit + STATS_loss)\n",
        "print(\"profit after transaction cost:\", profit)\n",
        "profit_after_inflation = profit - (INFLATION)\n",
        "print(\"profit after inflation:\", profit_after_inflation, \"at\", INFLATION, \"%\")\n",
        "profit_after_tax = profit_after_inflation*(1-(TAX_SLAB/100))\n",
        "print(\"profit after tax:\", profit_after_tax, \"at\", TAX_SLAB, \"%\")"
      ],
      "metadata": {
        "colab": {
          "base_uri": "https://localhost:8080/"
        },
        "id": "wZrlih_ECQbT",
        "outputId": "c52a48aa-8221-4c63-dc8e-0a2fd10f04f5"
      },
      "execution_count": 34,
      "outputs": [
        {
          "output_type": "stream",
          "name": "stdout",
          "text": [
            "Month 1\n",
            "Boom!\n",
            "Boom!\n",
            "Boom!\n",
            "Month 2\n",
            "Boom!\n",
            "Boom!\n",
            "Boom!\n",
            "Month 3\n",
            "Boom!\n",
            "Boom!\n",
            "Month 4\n",
            "Boom!\n",
            "Boom!\n",
            "Month 5\n",
            "Boom!\n",
            "Boom!\n",
            "Boom!\n",
            "Boom!\n",
            "Boom!\n",
            "Month 6\n",
            "Boom!\n",
            "Boom!\n",
            "Boom!\n",
            "Month 7\n",
            "Boom!\n",
            "Boom!\n",
            "Boom!\n",
            "Boom!\n",
            "Month 8\n",
            "Boom!\n",
            "Noo!\n",
            "Noo!\n",
            "Boom!\n",
            "Month 9\n",
            "Boom!\n",
            "Boom!\n",
            "Boom!\n",
            "Boom!\n",
            "Boom!\n",
            "Month 10\n",
            "Boom!\n",
            "Month 11\n",
            "Boom!\n",
            "Boom!\n",
            "Month 12\n",
            "Boom!\n",
            "Boom!\n",
            "STATS_inactive 211\n",
            "STATS_profit 34\n",
            "STATS_loss 2\n",
            "STATS_transaction_cost 8.163\n",
            "profit after transaction cost: 19.837\n",
            "profit after inflation: 13.837 at 6 %\n",
            "profit after tax: 9.685899999999998 at 30 %\n"
          ]
        }
      ]
    }
  ]
}